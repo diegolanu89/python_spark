{
 "cells": [
  {
   "cell_type": "code",
   "execution_count": 2,
   "metadata": {},
   "outputs": [],
   "source": [
    "import pandas as pd\n",
    "import numpy as np\n",
    "import seaborn as sns\n",
    "import matplotlib.pyplot as plt\n",
    "%matplotlib inline\n"
   ]
  },
  {
   "cell_type": "code",
   "execution_count": 3,
   "metadata": {},
   "outputs": [],
   "source": [
    "oscars_demography = pd.read_csv('../Set/Oscars-demographics-DFE.csv', encoding='latin-1')"
   ]
  },
  {
   "cell_type": "code",
   "execution_count": 4,
   "metadata": {},
   "outputs": [
    {
     "output_type": "execute_result",
     "data": {
      "text/plain": "      _unit_id  _golden _unit_state  _trusted_judgments _last_judgment_at  \\\n436  670946276    False   finalized                   3      2/10/15 2:00   \n437  670946299    False   finalized                   3      2/10/15 2:04   \n438  670964912    False   finalized                   3      2/10/15 2:03   \n439  670964956    False   finalized                   3      2/10/15 2:01   \n440  670972898    False   finalized                   3      2/10/15 2:01   \n\n              birthplace  birthplace:confidence date_of_birth  \\\n436      London, England                    1.0      7-Mar-71   \n437  Manchester, England                    1.0     20-Oct-56   \n438          Chicago, Il                    1.0     26-Jul-22   \n439           Laurel, Ne                    1.0     31-Aug-28   \n440           Nevada, Mo                    1.0      5-Aug-06   \n\n     date_of_birth:confidence race_ethnicity  ...                    award  \\\n436                       1.0          White  ...  Best Supporting Actress   \n437                       1.0          White  ...            Best Director   \n438                       1.0          White  ...    Best Supporting Actor   \n439                       1.0          White  ...    Best Supporting Actor   \n440                       1.0          White  ...            Best Director   \n\n                                        biourl  birthplace_gold  \\\n436  http://www.nndb.com/people/309/000032213/              NaN   \n437  http://www.nndb.com/people/887/000044755/              NaN   \n438  http://www.nndb.com/people/224/000032128/              NaN   \n439  http://www.nndb.com/people/764/000022698/              NaN   \n440  http://www.nndb.com/people/704/000024632/              NaN   \n\n    date_of_birth_gold                             movie         person  \\\n436                NaN             The Constant Gardener   Rachel Weisz   \n437                NaN               Slumdog Millionaire    Danny Boyle   \n438                NaN           All the President's Men  Jason Robards   \n439                NaN                        Affliction   James Coburn   \n440                NaN  The Treasure of the Sierra Madre    John Huston   \n\n     race_ethnicity_gold religion_gold sexual_orientation_gold  \\\n436                  NaN           NaN                     NaN   \n437                  NaN           NaN                     NaN   \n438                  NaN           NaN                     NaN   \n439                  NaN           NaN                     NaN   \n440                  NaN           NaN                     NaN   \n\n    year_of_award_gold  \n436                NaN  \n437                NaN  \n438                NaN  \n439                NaN  \n440                NaN  \n\n[5 rows x 27 columns]",
      "text/html": "<div>\n<style scoped>\n    .dataframe tbody tr th:only-of-type {\n        vertical-align: middle;\n    }\n\n    .dataframe tbody tr th {\n        vertical-align: top;\n    }\n\n    .dataframe thead th {\n        text-align: right;\n    }\n</style>\n<table border=\"1\" class=\"dataframe\">\n  <thead>\n    <tr style=\"text-align: right;\">\n      <th></th>\n      <th>_unit_id</th>\n      <th>_golden</th>\n      <th>_unit_state</th>\n      <th>_trusted_judgments</th>\n      <th>_last_judgment_at</th>\n      <th>birthplace</th>\n      <th>birthplace:confidence</th>\n      <th>date_of_birth</th>\n      <th>date_of_birth:confidence</th>\n      <th>race_ethnicity</th>\n      <th>...</th>\n      <th>award</th>\n      <th>biourl</th>\n      <th>birthplace_gold</th>\n      <th>date_of_birth_gold</th>\n      <th>movie</th>\n      <th>person</th>\n      <th>race_ethnicity_gold</th>\n      <th>religion_gold</th>\n      <th>sexual_orientation_gold</th>\n      <th>year_of_award_gold</th>\n    </tr>\n  </thead>\n  <tbody>\n    <tr>\n      <th>436</th>\n      <td>670946276</td>\n      <td>False</td>\n      <td>finalized</td>\n      <td>3</td>\n      <td>2/10/15 2:00</td>\n      <td>London, England</td>\n      <td>1.0</td>\n      <td>7-Mar-71</td>\n      <td>1.0</td>\n      <td>White</td>\n      <td>...</td>\n      <td>Best Supporting Actress</td>\n      <td>http://www.nndb.com/people/309/000032213/</td>\n      <td>NaN</td>\n      <td>NaN</td>\n      <td>The Constant Gardener</td>\n      <td>Rachel Weisz</td>\n      <td>NaN</td>\n      <td>NaN</td>\n      <td>NaN</td>\n      <td>NaN</td>\n    </tr>\n    <tr>\n      <th>437</th>\n      <td>670946299</td>\n      <td>False</td>\n      <td>finalized</td>\n      <td>3</td>\n      <td>2/10/15 2:04</td>\n      <td>Manchester, England</td>\n      <td>1.0</td>\n      <td>20-Oct-56</td>\n      <td>1.0</td>\n      <td>White</td>\n      <td>...</td>\n      <td>Best Director</td>\n      <td>http://www.nndb.com/people/887/000044755/</td>\n      <td>NaN</td>\n      <td>NaN</td>\n      <td>Slumdog Millionaire</td>\n      <td>Danny Boyle</td>\n      <td>NaN</td>\n      <td>NaN</td>\n      <td>NaN</td>\n      <td>NaN</td>\n    </tr>\n    <tr>\n      <th>438</th>\n      <td>670964912</td>\n      <td>False</td>\n      <td>finalized</td>\n      <td>3</td>\n      <td>2/10/15 2:03</td>\n      <td>Chicago, Il</td>\n      <td>1.0</td>\n      <td>26-Jul-22</td>\n      <td>1.0</td>\n      <td>White</td>\n      <td>...</td>\n      <td>Best Supporting Actor</td>\n      <td>http://www.nndb.com/people/224/000032128/</td>\n      <td>NaN</td>\n      <td>NaN</td>\n      <td>All the President's Men</td>\n      <td>Jason Robards</td>\n      <td>NaN</td>\n      <td>NaN</td>\n      <td>NaN</td>\n      <td>NaN</td>\n    </tr>\n    <tr>\n      <th>439</th>\n      <td>670964956</td>\n      <td>False</td>\n      <td>finalized</td>\n      <td>3</td>\n      <td>2/10/15 2:01</td>\n      <td>Laurel, Ne</td>\n      <td>1.0</td>\n      <td>31-Aug-28</td>\n      <td>1.0</td>\n      <td>White</td>\n      <td>...</td>\n      <td>Best Supporting Actor</td>\n      <td>http://www.nndb.com/people/764/000022698/</td>\n      <td>NaN</td>\n      <td>NaN</td>\n      <td>Affliction</td>\n      <td>James Coburn</td>\n      <td>NaN</td>\n      <td>NaN</td>\n      <td>NaN</td>\n      <td>NaN</td>\n    </tr>\n    <tr>\n      <th>440</th>\n      <td>670972898</td>\n      <td>False</td>\n      <td>finalized</td>\n      <td>3</td>\n      <td>2/10/15 2:01</td>\n      <td>Nevada, Mo</td>\n      <td>1.0</td>\n      <td>5-Aug-06</td>\n      <td>1.0</td>\n      <td>White</td>\n      <td>...</td>\n      <td>Best Director</td>\n      <td>http://www.nndb.com/people/704/000024632/</td>\n      <td>NaN</td>\n      <td>NaN</td>\n      <td>The Treasure of the Sierra Madre</td>\n      <td>John Huston</td>\n      <td>NaN</td>\n      <td>NaN</td>\n      <td>NaN</td>\n      <td>NaN</td>\n    </tr>\n  </tbody>\n</table>\n<p>5 rows × 27 columns</p>\n</div>"
     },
     "metadata": {},
     "execution_count": 4
    }
   ],
   "source": [
    "oscars_demography.tail()"
   ]
  }
 ],
 "metadata": {
  "file_extension": ".py",
  "kernelspec": {
   "display_name": "Python 3.7.0 64-bit ('PYTHON': pipenv)",
   "language": "python",
   "name": "python37064bitpythonpipenv7230673d0c4d4573af2fbc53a31cd976"
  },
  "language_info": {
   "codemirror_mode": {
    "name": "ipython",
    "version": 3
   },
   "file_extension": ".py",
   "mimetype": "text/x-python",
   "name": "python",
   "nbconvert_exporter": "python",
   "pygments_lexer": "ipython3",
   "version": "3.7.0-final"
  },
  "mimetype": "text/x-python",
  "name": "python",
  "npconvert_exporter": "python",
  "pygments_lexer": "ipython3",
  "version": 3
 },
 "nbformat": 4,
 "nbformat_minor": 2
}