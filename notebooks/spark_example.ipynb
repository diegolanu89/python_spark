{
 "cells": [
  {
   "cell_type": "code",
   "execution_count": 1,
   "metadata": {},
   "outputs": [],
   "source": [
    "import findspark \n",
    "findspark.init('C:\\Spark\\spark-3.0.0-preview2-bin-hadoop2.7')"
   ]
  },
  {
   "cell_type": "code",
   "execution_count": 2,
   "metadata": {},
   "outputs": [],
   "source": [
    "from pyspark import SparkContext\n",
    "try: \n",
    "    type(sc)\n",
    "except NameError:\n",
    "    sc = SparkContext('local[*]')"
   ]
  },
  {
   "cell_type": "code",
   "execution_count": 3,
   "metadata": {},
   "outputs": [],
   "source": [
    "sales = [\n",
    "    (1, 1, '01', '2017', 500), # sera la minima\n",
    "    (1, 2, '01', '2017', 500),\n",
    "    (1, 2, '01', '2017', 500),\n",
    "    (1, 2, '01', '2017', 500),\n",
    "    (1, 2, '01', '2017', 500),\n",
    "    (1, 1, '01', '2016', 500),\n",
    "    (1, 2, '01', '2016', 500),\n",
    "    (1, 2, '01', '2016', 500),\n",
    "    (1, 2, '01', '2016', 500),\n",
    "    (1, 2, '01', '2016', 500),\n",
    "    (2, 3, '01', '2017', 500),\n",
    "    (2, 3, '01', '2017', 500),\n",
    "    (2, 3, '01', '2017', 500),\n",
    "    (2, 3, '01', '2017', 500),\n",
    "    (2, 3, '01', '2017', 500),\n",
    "    (4, 3, '01', '2017', 500),\n",
    "    (4, 3, '01', '2017', 500),\n",
    "    (4, 3, '02', '2017', 500),\n",
    "    (4, 3, '03', '2017', 500),    \n",
    "\n",
    "]\n",
    "\n",
    "stores = [\n",
    "    (1 , 'address 1', -1, -1, '30002', 'Georgia'),\n",
    "    (2 , 'address 2', -2, -2, '30003', 'Georgia'),\n",
    "    (3 , 'address 2', -3, -3, '30004', 'Georgia'),\n",
    "    (4 , 'address 2', -4, -4, '10119', 'New York')    \n",
    "]"
   ]
  },
  {
   "cell_type": "code",
   "execution_count": 4,
   "metadata": {},
   "outputs": [],
   "source": [
    "# Obtener la tienda que realizó menor cantidad de ventas en el estado de \"Georgia\" en todo el año 2017"
   ]
  },
  {
   "cell_type": "code",
   "execution_count": 5,
   "metadata": {},
   "outputs": [],
   "source": [
    "salesRdd = sc.parallelize(sales)\n",
    "storesRdd = sc.parallelize(stores)"
   ]
  },
  {
   "cell_type": "code",
   "execution_count": 6,
   "metadata": {},
   "outputs": [],
   "source": [
    "# filtramos la informacion de 2017 de ventas y realizamos un cambio de clave\n",
    "salesToJoin = salesRdd.filter(lambda x: x[3] == '2017')\\\n",
    "    .map(lambda x: (x[1], x[4])) # (K,V) K: id_tienda, V: total_ventas_mensuales (mi solucion)\n",
    "    #.map(lambda x: (x[1], (x[1],x[4]))) # (K,V) K: id_tienda, V: (id_tienda, total_ventas_mensuales) (solucion de catedra)\n",
    "    #las dos soluiciones sirven igual, se llega a (1,500)\n",
    "\n",
    "# consideramos solo tiendas de Georgia\n",
    "storesToJoin = storesRdd.filter(lambda x: x[5] == 'Georgia')\\\n",
    "    .map(lambda x: (x[0], x[0]))"
   ]
  },
  {
   "cell_type": "code",
   "execution_count": 7,
   "metadata": {},
   "outputs": [
    {
     "output_type": "execute_result",
     "data": {
      "text/plain": "[(1, (500, 1)),\n (2, (500, 2)),\n (2, (500, 2)),\n (2, (500, 2)),\n (2, (500, 2)),\n (3, (500, 3)),\n (3, (500, 3)),\n (3, (500, 3)),\n (3, (500, 3)),\n (3, (500, 3)),\n (3, (500, 3)),\n (3, (500, 3)),\n (3, (500, 3)),\n (3, (500, 3))]"
     },
     "metadata": {},
     "execution_count": 7
    }
   ],
   "source": [
    "join = salesToJoin.join(storesToJoin)\n",
    "join.collect()"
   ]
  },
  {
   "cell_type": "code",
   "execution_count": 8,
   "metadata": {},
   "outputs": [
    {
     "output_type": "execute_result",
     "data": {
      "text/plain": "(1, 500)"
     },
     "metadata": {},
     "execution_count": 8
    }
   ],
   "source": [
    "# realizamos el join de ambos data frames\n",
    "# simplificamos el formato para evitar los reduce complejos\n",
    "# sumarizamos cantidad de ventas por tienda\n",
    "# buscamos el minimo con reduce\n",
    "salesToJoin.join(storesToJoin)\\\n",
    "    .map(lambda x: (x[0], x[1][0]))\\\n",
    "    .reduceByKey(lambda x, y: x+y)\\\n",
    "    .reduce(lambda x, y: x if x[1] < y[1] else y)"
   ]
  },
  {
   "cell_type": "code",
   "execution_count": null,
   "metadata": {},
   "outputs": [],
   "source": [
    "## PARCIAL 2019 1C - 1°"
   ]
  },
  {
   "cell_type": "code",
   "execution_count": 72,
   "metadata": {},
   "outputs": [],
   "source": [
    "import pandas as pd\n",
    "import random\n",
    "import numpy as np\n",
    "import random\n",
    "import time\n",
    "import numpy as np\n",
    "from datetime import datetime"
   ]
  },
  {
   "cell_type": "code",
   "execution_count": 117,
   "metadata": {},
   "outputs": [
    {
     "output_type": "execute_result",
     "data": {
      "text/plain": "[datetime.datetime(2017, 1, 5, 0, 0),\n datetime.datetime(2019, 12, 20, 0, 0),\n datetime.datetime(2018, 4, 2, 0, 0),\n datetime.datetime(2019, 2, 10, 0, 0),\n datetime.datetime(2016, 11, 27, 0, 0),\n datetime.datetime(2017, 10, 14, 0, 0),\n datetime.datetime(2016, 11, 25, 0, 0),\n datetime.datetime(2019, 2, 26, 0, 0),\n datetime.datetime(2017, 11, 10, 0, 0),\n datetime.datetime(2019, 11, 4, 0, 0),\n datetime.datetime(2018, 8, 13, 0, 0),\n datetime.datetime(2019, 3, 5, 0, 0),\n datetime.datetime(2018, 9, 22, 0, 0),\n datetime.datetime(2018, 11, 2, 0, 0),\n datetime.datetime(2019, 2, 2, 0, 0),\n datetime.datetime(2018, 12, 2, 0, 0),\n datetime.datetime(2016, 12, 3, 0, 0),\n datetime.datetime(2019, 6, 22, 0, 0),\n datetime.datetime(2016, 4, 19, 0, 0),\n datetime.datetime(2018, 9, 24, 0, 0)]"
     },
     "metadata": {},
     "execution_count": 117
    }
   ],
   "source": [
    "#Datos aleatorios extraidos de la web para aportar un set ejemplo y utilización de random\n",
    "\n",
    "provincias = ['Álava', 'Albacete','Alicante','Almería', 'Asturias','Ávila','Badajoz','Barcelona','Cordoba','Cordoba','Cordoba','Cordoba','Cordoba','Cordoba','Cordoba','Cordoba','Cordoba','Cordoba','Cordoba','Cordoba','Cordoba']\n",
    "\n",
    "ciudades = [\"Andalucía\", \"Aragón\", \"Canarias\", \"Cantabria\", \"Castilla y León\", \"Castilla-La Mancha\", \"Cataluña\", \"Ceuta\", \"Comunidad Valenciana\", \"Comunidad de Madrid\", \"Extremadura\", \"Galicia\", \"Islas Baleares\", \"La Rioja\", \"Melilla\", \"Navarra\", \"País Vasco\", \"Principado de Asturias\", \"Región de Murcia\"]\n",
    "\n",
    "nombres_bases = [\"one\", \"two\", \"three\", \"four\", \"five\",\"six\", \"seven\", \"eight\", \"nine\", \"ten\", \"eleven\"]\n",
    "\n",
    "direcciones = [\"S\",\"E\",\"O\",\"N\",\"SO\",\"SE\",\"NE\",\"NO\",\"h\",\"m\",\"y\",\"x\"]\n",
    "\n",
    "import random\n",
    "import time\n",
    "import numpy as np\n",
    "\n",
    "def str_time_prop(start, end, format, prop):\n",
    "    \"\"\"Get a time at a proportion of a range of two formatted times.\n",
    "\n",
    "    start and end should be strings specifying times formated in the\n",
    "    given format (strftime-style), giving an interval [start, end].\n",
    "    prop specifies how a proportion of the interval to be taken after\n",
    "    start.  The returned time will be in the specified format.\n",
    "    \"\"\"\n",
    "\n",
    "    stime = time.mktime(time.strptime(start, format))\n",
    "    etime = time.mktime(time.strptime(end, format))\n",
    "\n",
    "    ptime = stime + prop * (etime - stime)\n",
    "\n",
    "    return time.strftime(format, time.localtime(ptime))\n",
    "\n",
    "\n",
    "def random_date(start, end, prop):\n",
    "    return str_time_prop(start, end, '%m/%d/%Y', prop)\n",
    "dates = []\n",
    "\n",
    "for i in range(20):\n",
    "    #dates = np.append(dates,...)\n",
    "    dates.append( datetime.strptime(random_date(\"1/1/2016\", \"1/1/2020\", random.random()), '%m/%d/%Y'))\n",
    "\n",
    "dates"
   ]
  },
  {
   "cell_type": "code",
   "execution_count": 118,
   "metadata": {},
   "outputs": [
    {
     "output_type": "execute_result",
     "data": {
      "text/plain": "   ID_BASE  NOMBRE       PCIA                CIUDAD\n0        6    nine    Cordoba  Comunidad Valenciana\n1        1   three    Cordoba                Aragón\n2        2     six  Barcelona              Cataluña\n3        5   eight    Cordoba       Castilla y León\n4        3  eleven    Badajoz                 Ceuta\n5        9     one    Cordoba    Castilla-La Mancha\n6        7    four   Asturias               Navarra\n7        4    five   Albacete        Islas Baleares\n8        8     two    Cordoba            País Vasco\n9        0     ten    Cordoba              Canarias",
      "text/html": "<div>\n<style scoped>\n    .dataframe tbody tr th:only-of-type {\n        vertical-align: middle;\n    }\n\n    .dataframe tbody tr th {\n        vertical-align: top;\n    }\n\n    .dataframe thead th {\n        text-align: right;\n    }\n</style>\n<table border=\"1\" class=\"dataframe\">\n  <thead>\n    <tr style=\"text-align: right;\">\n      <th></th>\n      <th>ID_BASE</th>\n      <th>NOMBRE</th>\n      <th>PCIA</th>\n      <th>CIUDAD</th>\n    </tr>\n  </thead>\n  <tbody>\n    <tr>\n      <th>0</th>\n      <td>6</td>\n      <td>nine</td>\n      <td>Cordoba</td>\n      <td>Comunidad Valenciana</td>\n    </tr>\n    <tr>\n      <th>1</th>\n      <td>1</td>\n      <td>three</td>\n      <td>Cordoba</td>\n      <td>Aragón</td>\n    </tr>\n    <tr>\n      <th>2</th>\n      <td>2</td>\n      <td>six</td>\n      <td>Barcelona</td>\n      <td>Cataluña</td>\n    </tr>\n    <tr>\n      <th>3</th>\n      <td>5</td>\n      <td>eight</td>\n      <td>Cordoba</td>\n      <td>Castilla y León</td>\n    </tr>\n    <tr>\n      <th>4</th>\n      <td>3</td>\n      <td>eleven</td>\n      <td>Badajoz</td>\n      <td>Ceuta</td>\n    </tr>\n    <tr>\n      <th>5</th>\n      <td>9</td>\n      <td>one</td>\n      <td>Cordoba</td>\n      <td>Castilla-La Mancha</td>\n    </tr>\n    <tr>\n      <th>6</th>\n      <td>7</td>\n      <td>four</td>\n      <td>Asturias</td>\n      <td>Navarra</td>\n    </tr>\n    <tr>\n      <th>7</th>\n      <td>4</td>\n      <td>five</td>\n      <td>Albacete</td>\n      <td>Islas Baleares</td>\n    </tr>\n    <tr>\n      <th>8</th>\n      <td>8</td>\n      <td>two</td>\n      <td>Cordoba</td>\n      <td>País Vasco</td>\n    </tr>\n    <tr>\n      <th>9</th>\n      <td>0</td>\n      <td>ten</td>\n      <td>Cordoba</td>\n      <td>Canarias</td>\n    </tr>\n  </tbody>\n</table>\n</div>"
     },
     "metadata": {},
     "execution_count": 118
    }
   ],
   "source": [
    "df = pd.DataFrame({'ID_BASE': random.sample(range(0,11),k=10),\n",
    "                   'NOMBRE': random.sample(nombres_bases,k=10),\n",
    "                   'PCIA': random.sample(provincias,k=10),\n",
    "                   'CIUDAD':random.sample(ciudades,k=10),}\n",
    "                  )\n",
    "df"
   ]
  },
  {
   "cell_type": "code",
   "execution_count": 119,
   "metadata": {},
   "outputs": [
    {
     "output_type": "execute_result",
     "data": {
      "text/plain": "   TIMESTAMP  ID_BASE  TEMPERATURA  HUMEDAD  PRESION DIRECCION VIENTO  \\\n0 2016-12-03        0           17       84        3                h   \n1 2018-09-24        3           23       47       12                N   \n2 2019-02-10        2           24       41       69               NE   \n3 2016-04-19        9            0       60       73                m   \n4 2019-03-05        4           32       15       86               SE   \n5 2018-09-22        7           12       61       54               NO   \n6 2017-11-10        5            5       26        5                O   \n7 2019-12-20       10           18       36       94                y   \n8 2019-11-04        1           38       62       87                x   \n9 2018-12-02        8           34        2       83                S   \n\n   VELOCIDAD VIENTO  \n0                 5  \n1                21  \n2                40  \n3                 1  \n4                94  \n5                99  \n6                97  \n7                59  \n8                23  \n9                 2  ",
      "text/html": "<div>\n<style scoped>\n    .dataframe tbody tr th:only-of-type {\n        vertical-align: middle;\n    }\n\n    .dataframe tbody tr th {\n        vertical-align: top;\n    }\n\n    .dataframe thead th {\n        text-align: right;\n    }\n</style>\n<table border=\"1\" class=\"dataframe\">\n  <thead>\n    <tr style=\"text-align: right;\">\n      <th></th>\n      <th>TIMESTAMP</th>\n      <th>ID_BASE</th>\n      <th>TEMPERATURA</th>\n      <th>HUMEDAD</th>\n      <th>PRESION</th>\n      <th>DIRECCION VIENTO</th>\n      <th>VELOCIDAD VIENTO</th>\n    </tr>\n  </thead>\n  <tbody>\n    <tr>\n      <th>0</th>\n      <td>2016-12-03</td>\n      <td>0</td>\n      <td>17</td>\n      <td>84</td>\n      <td>3</td>\n      <td>h</td>\n      <td>5</td>\n    </tr>\n    <tr>\n      <th>1</th>\n      <td>2018-09-24</td>\n      <td>3</td>\n      <td>23</td>\n      <td>47</td>\n      <td>12</td>\n      <td>N</td>\n      <td>21</td>\n    </tr>\n    <tr>\n      <th>2</th>\n      <td>2019-02-10</td>\n      <td>2</td>\n      <td>24</td>\n      <td>41</td>\n      <td>69</td>\n      <td>NE</td>\n      <td>40</td>\n    </tr>\n    <tr>\n      <th>3</th>\n      <td>2016-04-19</td>\n      <td>9</td>\n      <td>0</td>\n      <td>60</td>\n      <td>73</td>\n      <td>m</td>\n      <td>1</td>\n    </tr>\n    <tr>\n      <th>4</th>\n      <td>2019-03-05</td>\n      <td>4</td>\n      <td>32</td>\n      <td>15</td>\n      <td>86</td>\n      <td>SE</td>\n      <td>94</td>\n    </tr>\n    <tr>\n      <th>5</th>\n      <td>2018-09-22</td>\n      <td>7</td>\n      <td>12</td>\n      <td>61</td>\n      <td>54</td>\n      <td>NO</td>\n      <td>99</td>\n    </tr>\n    <tr>\n      <th>6</th>\n      <td>2017-11-10</td>\n      <td>5</td>\n      <td>5</td>\n      <td>26</td>\n      <td>5</td>\n      <td>O</td>\n      <td>97</td>\n    </tr>\n    <tr>\n      <th>7</th>\n      <td>2019-12-20</td>\n      <td>10</td>\n      <td>18</td>\n      <td>36</td>\n      <td>94</td>\n      <td>y</td>\n      <td>59</td>\n    </tr>\n    <tr>\n      <th>8</th>\n      <td>2019-11-04</td>\n      <td>1</td>\n      <td>38</td>\n      <td>62</td>\n      <td>87</td>\n      <td>x</td>\n      <td>23</td>\n    </tr>\n    <tr>\n      <th>9</th>\n      <td>2018-12-02</td>\n      <td>8</td>\n      <td>34</td>\n      <td>2</td>\n      <td>83</td>\n      <td>S</td>\n      <td>2</td>\n    </tr>\n  </tbody>\n</table>\n</div>"
     },
     "metadata": {},
     "execution_count": 119
    }
   ],
   "source": [
    "\n",
    "df2 = pd.DataFrame({'TIMESTAMP': random.sample(dates,k=10),\n",
    "                   'ID_BASE': random.sample(range(0,11),k=10),\n",
    "                   'TEMPERATURA': random.sample(range(0,40),k=10),\n",
    "                   'HUMEDAD':random.sample(range(0,100),k=10),\n",
    "                   'PRESION':random.sample(range(0,100),k=10),\n",
    "                   'DIRECCION VIENTO':random.sample(direcciones,k=10),\n",
    "                   'VELOCIDAD VIENTO':random.sample(range(0,100),k=10),}\n",
    "                  )\n",
    "df2"
   ]
  },
  {
   "cell_type": "code",
   "execution_count": 120,
   "metadata": {},
   "outputs": [],
   "source": [
    "#MODIFICACION DE LOS DATOS DE LA COLUMNDA  TIMESTAP A DATE CORRECTAMENTE\n",
    "df2[\"TIMESTAMP\"] = pd.to_datetime(df2[\"TIMESTAMP\"])"
   ]
  },
  {
   "cell_type": "code",
   "execution_count": 121,
   "metadata": {},
   "outputs": [
    {
     "output_type": "execute_result",
     "data": {
      "text/plain": "['ID_BASE', 'NOMBRE', 'PCIA', 'CIUDAD']"
     },
     "metadata": {},
     "execution_count": 121
    }
   ],
   "source": [
    "# Este desarrollo a continuacion no es el correcto para el manejo de pandas, ocrurre lo siguiente:\n",
    "rdm = sc.parallelize(df)\n",
    "rdm2 = sc.parallelize(df2)\n",
    "rdm.collect()"
   ]
  },
  {
   "cell_type": "code",
   "execution_count": 122,
   "metadata": {},
   "outputs": [
    {
     "output_type": "execute_result",
     "data": {
      "text/plain": "[('I', 'ID_BASE'), ('N', 'NOMBRE'), ('P', 'PCIA'), ('C', 'CIUDAD')]"
     },
     "metadata": {},
     "execution_count": 122
    }
   ],
   "source": [
    "values = rdm.map(lambda x: (x[0],x))\n",
    "values.collect()"
   ]
  },
  {
   "cell_type": "code",
   "execution_count": 123,
   "metadata": {},
   "outputs": [
    {
     "output_type": "execute_result",
     "data": {
      "text/plain": "[('I', 'ID_BASE'), ('N', 'NOMBRE')]"
     },
     "metadata": {},
     "execution_count": 123
    }
   ],
   "source": [
    "values.take(2)"
   ]
  },
  {
   "cell_type": "code",
   "execution_count": 124,
   "metadata": {},
   "outputs": [],
   "source": [
    "# SOLUCION CORRECTA:\n",
    "from pyspark.sql import *\n",
    "from pyspark.sql.functions import *\n",
    "from pyspark.sql import SQLContext\n",
    "sqlContext = SQLContext(sc)\n",
    "spDF = sqlContext.createDataFrame(df)\n",
    "spDF2 = sqlContext.createDataFrame(df2)"
   ]
  },
  {
   "cell_type": "code",
   "execution_count": 125,
   "metadata": {},
   "outputs": [],
   "source": [
    "# SOLUCION PEDIDA:\n",
    "#a.Map por ID_BASE en ambos RDD.\n",
    "#b.Filter en RDD bases por PCIA = Buenos Aires.\n",
    "#c.Filter en RDD mediciones por TIMESTAMP entre 01-12-2017 y 31-12-2018.\n",
    "#d.Inner join entre ambos RDD.\n",
    "#e.MAP por ID_BASE, YEAR(TIMESTAMP), MONTH(TIMESTAMP).\n",
    "#f.ReduceByKey para calcular suma y contador.\n",
    "#g.MAP para cambiar la clave a ID_BASE y aprovechar para hacer el calculo del promedio. En los values debequedar el promedio, el nombre de la base y el mes/año.\n",
    "#h.GroupByKey\n",
    "#i.Filter para comparar que la tasa de un mes a otro haya variado en 30%.\n",
    "#j.Map para quedarse con ID_BASE y nombre\n"
   ]
  },
  {
   "cell_type": "code",
   "execution_count": 126,
   "metadata": {},
   "outputs": [
    {
     "output_type": "stream",
     "name": "stdout",
     "text": "+-------+------+---------+--------------------+\n|ID_BASE|NOMBRE|     PCIA|              CIUDAD|\n+-------+------+---------+--------------------+\n|      6|  nine|  Cordoba|Comunidad Valenciana|\n|      1| three|  Cordoba|              Aragón|\n|      2|   six|Barcelona|            Cataluña|\n|      5| eight|  Cordoba|     Castilla y León|\n|      3|eleven|  Badajoz|               Ceuta|\n|      9|   one|  Cordoba|  Castilla-La Mancha|\n|      7|  four| Asturias|             Navarra|\n|      4|  five| Albacete|      Islas Baleares|\n|      8|   two|  Cordoba|          País Vasco|\n|      0|   ten|  Cordoba|            Canarias|\n+-------+------+---------+--------------------+\n\n"
    }
   ],
   "source": [
    "spDF.show()"
   ]
  },
  {
   "cell_type": "code",
   "execution_count": 127,
   "metadata": {},
   "outputs": [
    {
     "output_type": "stream",
     "name": "stdout",
     "text": "+-------------------+-------+-----------+-------+-------+----------------+----------------+\n|          TIMESTAMP|ID_BASE|TEMPERATURA|HUMEDAD|PRESION|DIRECCION VIENTO|VELOCIDAD VIENTO|\n+-------------------+-------+-----------+-------+-------+----------------+----------------+\n|2016-12-03 00:00:00|      0|         17|     84|      3|               h|               5|\n|2018-09-24 00:00:00|      3|         23|     47|     12|               N|              21|\n|2019-02-10 00:00:00|      2|         24|     41|     69|              NE|              40|\n|2016-04-19 00:00:00|      9|          0|     60|     73|               m|               1|\n|2019-03-05 00:00:00|      4|         32|     15|     86|              SE|              94|\n|2018-09-22 00:00:00|      7|         12|     61|     54|              NO|              99|\n|2017-11-10 00:00:00|      5|          5|     26|      5|               O|              97|\n|2019-12-20 00:00:00|     10|         18|     36|     94|               y|              59|\n|2019-11-04 00:00:00|      1|         38|     62|     87|               x|              23|\n|2018-12-02 00:00:00|      8|         34|      2|     83|               S|               2|\n+-------------------+-------+-----------+-------+-------+----------------+----------------+\n\n"
    }
   ],
   "source": [
    "spDF2.show()"
   ]
  },
  {
   "cell_type": "code",
   "execution_count": 151,
   "metadata": {},
   "outputs": [],
   "source": [
    "rdd = spDF.rdd\n",
    "rdd2 = spDF2.rdd\n",
    "\n",
    "r = rdd.filter(lambda x: x[2] == 'Cordoba')\\\n",
    "        .map(lambda x:(x[0], x))\n",
    "\n",
    "r2 = rdd2.filter(lambda x:x[0]<datetime(2017,12,31) and x[0]>datetime(2016,12,1))\\\n",
    "        .map(lambda x:(x[1],x))\n",
    "        "
   ]
  },
  {
   "cell_type": "code",
   "execution_count": 146,
   "metadata": {},
   "outputs": [
    {
     "output_type": "execute_result",
     "data": {
      "text/plain": "[(6,\n  Row(ID_BASE=6, NOMBRE='nine', PCIA='Cordoba', CIUDAD='Comunidad Valenciana')),\n (1, Row(ID_BASE=1, NOMBRE='three', PCIA='Cordoba', CIUDAD='Aragón')),\n (5, Row(ID_BASE=5, NOMBRE='eight', PCIA='Cordoba', CIUDAD='Castilla y León')),\n (9,\n  Row(ID_BASE=9, NOMBRE='one', PCIA='Cordoba', CIUDAD='Castilla-La Mancha')),\n (8, Row(ID_BASE=8, NOMBRE='two', PCIA='Cordoba', CIUDAD='País Vasco')),\n (0, Row(ID_BASE=0, NOMBRE='ten', PCIA='Cordoba', CIUDAD='Canarias'))]"
     },
     "metadata": {},
     "execution_count": 146
    }
   ],
   "source": [
    "r.collect()"
   ]
  },
  {
   "cell_type": "code",
   "execution_count": 152,
   "metadata": {},
   "outputs": [
    {
     "output_type": "execute_result",
     "data": {
      "text/plain": "[(0,\n  Row(TIMESTAMP=datetime.datetime(2016, 12, 3, 0, 0), ID_BASE=0, TEMPERATURA=17, HUMEDAD=84, PRESION=3, DIRECCION VIENTO='h', VELOCIDAD VIENTO=5)),\n (5,\n  Row(TIMESTAMP=datetime.datetime(2017, 11, 10, 0, 0), ID_BASE=5, TEMPERATURA=5, HUMEDAD=26, PRESION=5, DIRECCION VIENTO='O', VELOCIDAD VIENTO=97))]"
     },
     "metadata": {},
     "execution_count": 152
    }
   ],
   "source": [
    "r2.collect()"
   ]
  },
  {
   "cell_type": "code",
   "execution_count": 155,
   "metadata": {},
   "outputs": [
    {
     "output_type": "execute_result",
     "data": {
      "text/plain": "[(0,\n  (Row(ID_BASE=0, NOMBRE='ten', PCIA='Cordoba', CIUDAD='Canarias'),\n   Row(TIMESTAMP=datetime.datetime(2016, 12, 3, 0, 0), ID_BASE=0, TEMPERATURA=17, HUMEDAD=84, PRESION=3, DIRECCION VIENTO='h', VELOCIDAD VIENTO=5))),\n (5,\n  (Row(ID_BASE=5, NOMBRE='eight', PCIA='Cordoba', CIUDAD='Castilla y León'),\n   Row(TIMESTAMP=datetime.datetime(2017, 11, 10, 0, 0), ID_BASE=5, TEMPERATURA=5, HUMEDAD=26, PRESION=5, DIRECCION VIENTO='O', VELOCIDAD VIENTO=97)))]"
     },
     "metadata": {},
     "execution_count": 155
    }
   ],
   "source": [
    "result = r.join(r2)\n",
    "result.collect()"
   ]
  },
  {
   "cell_type": "code",
   "execution_count": 165,
   "metadata": {},
   "outputs": [],
   "source": [
    "result = r.join(r2)\\\n",
    "            .map(lambda x: (x[0], (x[1][1][0].year, x[1][1][0].month)))\n"
   ]
  },
  {
   "cell_type": "code",
   "execution_count": 166,
   "metadata": {},
   "outputs": [
    {
     "output_type": "execute_result",
     "data": {
      "text/plain": "[(0, (2016, 12)), (5, (2017, 11))]"
     },
     "metadata": {},
     "execution_count": 166
    }
   ],
   "source": [
    "result.collect()"
   ]
  },
  {
   "cell_type": "code",
   "execution_count": null,
   "metadata": {},
   "outputs": [],
   "source": []
  }
 ],
 "metadata": {
  "language_info": {
   "codemirror_mode": {
    "name": "ipython",
    "version": 3
   },
   "file_extension": ".py",
   "mimetype": "text/x-python",
   "name": "python",
   "nbconvert_exporter": "python",
   "pygments_lexer": "ipython3",
   "version": "3.7.0-final"
  },
  "orig_nbformat": 2,
  "kernelspec": {
   "name": "python37064bitpythonpipenv7230673d0c4d4573af2fbc53a31cd976",
   "display_name": "Python 3.7.0 64-bit ('PYTHON': pipenv)"
  }
 },
 "nbformat": 4,
 "nbformat_minor": 2
}