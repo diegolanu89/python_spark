{
 "cells": [
  {
   "cell_type": "code",
   "execution_count": 1,
   "metadata": {},
   "outputs": [],
   "source": [
    "import findspark \n",
    "findspark.init('C:\\Spark\\spark-3.0.0-preview2-bin-hadoop2.7')"
   ]
  },
  {
   "cell_type": "code",
   "execution_count": 2,
   "metadata": {},
   "outputs": [],
   "source": [
    "from pyspark import SparkContext\n",
    "try: \n",
    "    type(sc)\n",
    "except NameError:\n",
    "    sc = SparkContext('local[*]')"
   ]
  },
  {
   "cell_type": "code",
   "execution_count": 3,
   "metadata": {},
   "outputs": [],
   "source": [
    "sales = [\n",
    "    (1, 1, '01', '2017', 500), # sera la minima\n",
    "    (1, 2, '01', '2017', 500),\n",
    "    (1, 2, '01', '2017', 500),\n",
    "    (1, 2, '01', '2017', 500),\n",
    "    (1, 2, '01', '2017', 500),\n",
    "    (1, 1, '01', '2016', 500),\n",
    "    (1, 2, '01', '2016', 500),\n",
    "    (1, 2, '01', '2016', 500),\n",
    "    (1, 2, '01', '2016', 500),\n",
    "    (1, 2, '01', '2016', 500),\n",
    "    (2, 3, '01', '2017', 500),\n",
    "    (2, 3, '01', '2017', 500),\n",
    "    (2, 3, '01', '2017', 500),\n",
    "    (2, 3, '01', '2017', 500),\n",
    "    (2, 3, '01', '2017', 500),\n",
    "    (4, 3, '01', '2017', 500),\n",
    "    (4, 3, '01', '2017', 500),\n",
    "    (4, 3, '02', '2017', 500),\n",
    "    (4, 3, '03', '2017', 500),    \n",
    "\n",
    "]\n",
    "\n",
    "stores = [\n",
    "    (1 , 'address 1', -1, -1, '30002', 'Georgia'),\n",
    "    (2 , 'address 2', -2, -2, '30003', 'Georgia'),\n",
    "    (3 , 'address 2', -3, -3, '30004', 'Georgia'),\n",
    "    (4 , 'address 2', -4, -4, '10119', 'New York')    \n",
    "]"
   ]
  },
  {
   "cell_type": "code",
   "execution_count": 17,
   "metadata": {},
   "outputs": [],
   "source": [
    "# Obtener la tienda que realizó menor cantidad de ventas en el estado de \"Georgia\" en todo el año 2017"
   ]
  },
  {
   "cell_type": "code",
   "execution_count": 4,
   "metadata": {},
   "outputs": [],
   "source": [
    "salesRdd = sc.parallelize(sales)\n",
    "storesRdd = sc.parallelize(stores)"
   ]
  },
  {
   "cell_type": "code",
   "execution_count": 9,
   "metadata": {},
   "outputs": [],
   "source": [
    "# filtramos la informacion de 2017 de ventas y realizamos un cambio de clave\n",
    "salesToJoin = salesRdd.filter(lambda x: x[3] == '2017')\\\n",
    "    .map(lambda x: (x[1], (x[1],x[4]))) # (K,V) K: id_tienda, V: (id_tienda, total_ventas_mensuales)\n",
    "\n",
    "# consideramos solo tiendas de Georgia\n",
    "storesToJoin = storesRdd.filter(lambda x: x[5] == 'Georgia')\\\n",
    "    .map(lambda x: (x[0], x[0]))"
   ]
  },
  {
   "cell_type": "code",
   "execution_count": 10,
   "metadata": {},
   "outputs": [
    {
     "output_type": "execute_result",
     "data": {
      "text/plain": "(1, 500)"
     },
     "metadata": {},
     "execution_count": 10
    }
   ],
   "source": [
    "# realizamos el join de ambos data frames\n",
    "# simplificamos el formato para evitar los reduce complejos\n",
    "# sumarizamos cantidad de ventas por tienda\n",
    "# buscamos el minimo con reduce\n",
    "salesToJoin.join(storesToJoin)\\\n",
    "    .map(lambda x: (x[0], x[1][0][1]))\\\n",
    "    .reduceByKey(lambda x, y: x+y)\\\n",
    "    .reduce(lambda x, y: x if x[1] < y[1] else y)"
   ]
  },
  {
   "cell_type": "code",
   "execution_count": 15,
   "metadata": {},
   "outputs": [],
   "source": [
    "## PARCIAL 2019 1C - 1°"
   ]
  },
  {
   "cell_type": "code",
   "execution_count": 5,
   "metadata": {},
   "outputs": [],
   "source": [
    "import pandas as pd\n",
    "import random\n",
    "import numpy as np"
   ]
  },
  {
   "cell_type": "code",
   "execution_count": 6,
   "metadata": {},
   "outputs": [],
   "source": [
    "#Datos aleatorios extraidos de la web para aportar un set ejemplo y utilización de random\n",
    "\n",
    "provincias = ['Álava', 'Albacete','Alicante','Almería', 'Asturias','Ávila','Badajoz','Barcelona','Burgos','Cáceres','Cádiz','Cantabria','Castellón','Ciudad Real','Córdoba','La Coruña','Cuenca','Gerona','Granada','Guadalajara','Guipúzcoa','Huelva','Huesca','Islas Baleares','Jaén','León','Lérida','Lugo','Madrid','Málaga','Murcia','Navarra','Orense','Palencia','Las Palmas','Pontevedra','La Rioja','Salamanca','Segovia','Sevilla','Soria','Tarragona','Santa Cruz de Tenerife','Teruel','Toledo','Valencia','Valladolid','Vizcaya','Zamora','Zaragoza']\n",
    "\n",
    "ciudades = [\"Andalucía\", \"Aragón\", \"Canarias\", \"Cantabria\", \"Castilla y León\", \"Castilla-La Mancha\", \"Cataluña\", \"Ceuta\", \"Comunidad Valenciana\", \"Comunidad de Madrid\", \"Extremadura\", \"Galicia\", \"Islas Baleares\", \"La Rioja\", \"Melilla\", \"Navarra\", \"País Vasco\", \"Principado de Asturias\", \"Región de Murcia\"]\n",
    "\n",
    "nombres_bases = [\"one\", \"two\", \"three\", \"four\", \"five\",\"six\", \"seven\", \"eight\", \"nine\", \"ten\", \"eleven\"]\n",
    "\n",
    "direcciones = [\"S\",\"E\",\"O\",\"N\",\"SO\",\"SE\",\"NE\",\"NO\",\"h\",\"m\",\"y\",\"x\"]"
   ]
  },
  {
   "cell_type": "code",
   "execution_count": 7,
   "metadata": {},
   "outputs": [
    {
     "output_type": "execute_result",
     "data": {
      "text/plain": "   ID_BASE  NOMBRE        PCIA                  CIUDAD\n0        7     one       Ávila                La Rioja\n1       10    nine     Vizcaya        Región de Murcia\n2        9   seven  Las Palmas  Principado de Asturias\n3        4     ten  Pontevedra             Extremadura\n4        1     two      Toledo                 Melilla\n5        2     six       Soria                Cataluña\n6        0   three   Tarragona         Castilla y León\n7        3    four      Lérida      Castilla-La Mancha\n8        6   eight      Orense          Islas Baleares\n9        5  eleven        Jaén     Comunidad de Madrid",
      "text/html": "<div>\n<style scoped>\n    .dataframe tbody tr th:only-of-type {\n        vertical-align: middle;\n    }\n\n    .dataframe tbody tr th {\n        vertical-align: top;\n    }\n\n    .dataframe thead th {\n        text-align: right;\n    }\n</style>\n<table border=\"1\" class=\"dataframe\">\n  <thead>\n    <tr style=\"text-align: right;\">\n      <th></th>\n      <th>ID_BASE</th>\n      <th>NOMBRE</th>\n      <th>PCIA</th>\n      <th>CIUDAD</th>\n    </tr>\n  </thead>\n  <tbody>\n    <tr>\n      <th>0</th>\n      <td>7</td>\n      <td>one</td>\n      <td>Ávila</td>\n      <td>La Rioja</td>\n    </tr>\n    <tr>\n      <th>1</th>\n      <td>10</td>\n      <td>nine</td>\n      <td>Vizcaya</td>\n      <td>Región de Murcia</td>\n    </tr>\n    <tr>\n      <th>2</th>\n      <td>9</td>\n      <td>seven</td>\n      <td>Las Palmas</td>\n      <td>Principado de Asturias</td>\n    </tr>\n    <tr>\n      <th>3</th>\n      <td>4</td>\n      <td>ten</td>\n      <td>Pontevedra</td>\n      <td>Extremadura</td>\n    </tr>\n    <tr>\n      <th>4</th>\n      <td>1</td>\n      <td>two</td>\n      <td>Toledo</td>\n      <td>Melilla</td>\n    </tr>\n    <tr>\n      <th>5</th>\n      <td>2</td>\n      <td>six</td>\n      <td>Soria</td>\n      <td>Cataluña</td>\n    </tr>\n    <tr>\n      <th>6</th>\n      <td>0</td>\n      <td>three</td>\n      <td>Tarragona</td>\n      <td>Castilla y León</td>\n    </tr>\n    <tr>\n      <th>7</th>\n      <td>3</td>\n      <td>four</td>\n      <td>Lérida</td>\n      <td>Castilla-La Mancha</td>\n    </tr>\n    <tr>\n      <th>8</th>\n      <td>6</td>\n      <td>eight</td>\n      <td>Orense</td>\n      <td>Islas Baleares</td>\n    </tr>\n    <tr>\n      <th>9</th>\n      <td>5</td>\n      <td>eleven</td>\n      <td>Jaén</td>\n      <td>Comunidad de Madrid</td>\n    </tr>\n  </tbody>\n</table>\n</div>"
     },
     "metadata": {},
     "execution_count": 7
    }
   ],
   "source": [
    "df = pd.DataFrame({'ID_BASE': random.sample(range(0,11),k=10),\n",
    "                   'NOMBRE': random.sample(nombres_bases,k=10),\n",
    "                   'PCIA': random.sample(provincias,k=10),\n",
    "                   'CIUDAD':random.sample(ciudades,k=10),}\n",
    "                  )\n",
    "df"
   ]
  },
  {
   "cell_type": "code",
   "execution_count": 8,
   "metadata": {},
   "outputs": [
    {
     "output_type": "execute_result",
     "data": {
      "text/plain": "   TIMESTAMP  ID_BASE  TEMPERATURA  HUMEDAD  PRESION DIRECCION VIENTO  \\\n0          2       10           28       46        3                N   \n1         13        9           33       48       42                x   \n2         17        8           32       79       43                S   \n3          1        5           13       28       70                m   \n4          7        3            2        6       62               NO   \n5         11        0           22       75       96                E   \n6          4        7            8       19        8                O   \n7         15        2           19       14       11               SO   \n8          5        6           24       61       86               NE   \n9          8        4            7       88       99                h   \n\n   VELOCIDAD VIENTO  \n0                79  \n1                43  \n2                41  \n3                18  \n4                69  \n5                23  \n6                44  \n7                53  \n8                 6  \n9                68  ",
      "text/html": "<div>\n<style scoped>\n    .dataframe tbody tr th:only-of-type {\n        vertical-align: middle;\n    }\n\n    .dataframe tbody tr th {\n        vertical-align: top;\n    }\n\n    .dataframe thead th {\n        text-align: right;\n    }\n</style>\n<table border=\"1\" class=\"dataframe\">\n  <thead>\n    <tr style=\"text-align: right;\">\n      <th></th>\n      <th>TIMESTAMP</th>\n      <th>ID_BASE</th>\n      <th>TEMPERATURA</th>\n      <th>HUMEDAD</th>\n      <th>PRESION</th>\n      <th>DIRECCION VIENTO</th>\n      <th>VELOCIDAD VIENTO</th>\n    </tr>\n  </thead>\n  <tbody>\n    <tr>\n      <th>0</th>\n      <td>2</td>\n      <td>10</td>\n      <td>28</td>\n      <td>46</td>\n      <td>3</td>\n      <td>N</td>\n      <td>79</td>\n    </tr>\n    <tr>\n      <th>1</th>\n      <td>13</td>\n      <td>9</td>\n      <td>33</td>\n      <td>48</td>\n      <td>42</td>\n      <td>x</td>\n      <td>43</td>\n    </tr>\n    <tr>\n      <th>2</th>\n      <td>17</td>\n      <td>8</td>\n      <td>32</td>\n      <td>79</td>\n      <td>43</td>\n      <td>S</td>\n      <td>41</td>\n    </tr>\n    <tr>\n      <th>3</th>\n      <td>1</td>\n      <td>5</td>\n      <td>13</td>\n      <td>28</td>\n      <td>70</td>\n      <td>m</td>\n      <td>18</td>\n    </tr>\n    <tr>\n      <th>4</th>\n      <td>7</td>\n      <td>3</td>\n      <td>2</td>\n      <td>6</td>\n      <td>62</td>\n      <td>NO</td>\n      <td>69</td>\n    </tr>\n    <tr>\n      <th>5</th>\n      <td>11</td>\n      <td>0</td>\n      <td>22</td>\n      <td>75</td>\n      <td>96</td>\n      <td>E</td>\n      <td>23</td>\n    </tr>\n    <tr>\n      <th>6</th>\n      <td>4</td>\n      <td>7</td>\n      <td>8</td>\n      <td>19</td>\n      <td>8</td>\n      <td>O</td>\n      <td>44</td>\n    </tr>\n    <tr>\n      <th>7</th>\n      <td>15</td>\n      <td>2</td>\n      <td>19</td>\n      <td>14</td>\n      <td>11</td>\n      <td>SO</td>\n      <td>53</td>\n    </tr>\n    <tr>\n      <th>8</th>\n      <td>5</td>\n      <td>6</td>\n      <td>24</td>\n      <td>61</td>\n      <td>86</td>\n      <td>NE</td>\n      <td>6</td>\n    </tr>\n    <tr>\n      <th>9</th>\n      <td>8</td>\n      <td>4</td>\n      <td>7</td>\n      <td>88</td>\n      <td>99</td>\n      <td>h</td>\n      <td>68</td>\n    </tr>\n  </tbody>\n</table>\n</div>"
     },
     "metadata": {},
     "execution_count": 8
    }
   ],
   "source": [
    "\n",
    "df2 = pd.DataFrame({'TIMESTAMP': random.sample(range(0,20),k=10),\n",
    "                   'ID_BASE': random.sample(range(0,11),k=10),\n",
    "                   'TEMPERATURA': random.sample(range(0,40),k=10),\n",
    "                   'HUMEDAD':random.sample(range(0,100),k=10),\n",
    "                   'PRESION':random.sample(range(0,100),k=10),\n",
    "                   'DIRECCION VIENTO':random.sample(direcciones,k=10),\n",
    "                   'VELOCIDAD VIENTO':random.sample(range(0,100),k=10),}\n",
    "                  )\n",
    "df2"
   ]
  },
  {
   "cell_type": "code",
   "execution_count": 30,
   "metadata": {},
   "outputs": [],
   "source": [
    "rdm = sc.parallelize(df)\n",
    "rdm2 = sc.parallelize(df2)"
   ]
  },
  {
   "cell_type": "code",
   "execution_count": 31,
   "metadata": {},
   "outputs": [
    {
     "output_type": "execute_result",
     "data": {
      "text/plain": "['ID_BASE', 'NOMBRE', 'PCIA', 'CIUDAD']"
     },
     "metadata": {},
     "execution_count": 31
    }
   ],
   "source": [
    "rdm.collect()"
   ]
  },
  {
   "cell_type": "code",
   "execution_count": 40,
   "metadata": {},
   "outputs": [
    {
     "output_type": "execute_result",
     "data": {
      "text/plain": "['TIMESTAMP',\n 'ID_BASE',\n 'TEMPERATURA',\n 'HUMEDAD',\n 'PRESION',\n 'DIRECCION VIENTO',\n 'VELOCIDAD VIENTO']"
     },
     "metadata": {},
     "execution_count": 40
    }
   ],
   "source": [
    "rdm2.collect()"
   ]
  },
  {
   "cell_type": "code",
   "execution_count": 28,
   "metadata": {},
   "outputs": [],
   "source": [
    "values = rdm.map(lambda x: (x[0],x))"
   ]
  },
  {
   "cell_type": "code",
   "execution_count": 29,
   "metadata": {},
   "outputs": [
    {
     "output_type": "execute_result",
     "data": {
      "text/plain": "[('I', 'ID_BASE'), ('N', 'NOMBRE'), ('P', 'PCIA'), ('C', 'CIUDAD')]"
     },
     "metadata": {},
     "execution_count": 29
    }
   ],
   "source": [
    "values.collect()"
   ]
  },
  {
   "cell_type": "code",
   "execution_count": 19,
   "metadata": {},
   "outputs": [
    {
     "output_type": "execute_result",
     "data": {
      "text/plain": "[('I', 'ID_BASE'), ('N', 'NOMBRE')]"
     },
     "metadata": {},
     "execution_count": 19
    }
   ],
   "source": [
    "values.take(2)"
   ]
  },
  {
   "cell_type": "code",
   "execution_count": 23,
   "metadata": {},
   "outputs": [],
   "source": [
    "from pyspark.sql import *\n",
    "from pyspark.sql.functions import *\n",
    "from pyspark.sql import SQLContext\n",
    "sqlContext = SQLContext(sc)\n",
    "spDF = sqlContext.createDataFrame(df)"
   ]
  },
  {
   "cell_type": "code",
   "execution_count": 24,
   "metadata": {},
   "outputs": [
    {
     "output_type": "execute_result",
     "data": {
      "text/plain": "[Row(ID_BASE=7, NOMBRE='one', PCIA='Ávila', CIUDAD='La Rioja'),\n Row(ID_BASE=10, NOMBRE='nine', PCIA='Vizcaya', CIUDAD='Región de Murcia'),\n Row(ID_BASE=9, NOMBRE='seven', PCIA='Las Palmas', CIUDAD='Principado de Asturias'),\n Row(ID_BASE=4, NOMBRE='ten', PCIA='Pontevedra', CIUDAD='Extremadura'),\n Row(ID_BASE=1, NOMBRE='two', PCIA='Toledo', CIUDAD='Melilla'),\n Row(ID_BASE=2, NOMBRE='six', PCIA='Soria', CIUDAD='Cataluña'),\n Row(ID_BASE=0, NOMBRE='three', PCIA='Tarragona', CIUDAD='Castilla y León'),\n Row(ID_BASE=3, NOMBRE='four', PCIA='Lérida', CIUDAD='Castilla-La Mancha'),\n Row(ID_BASE=6, NOMBRE='eight', PCIA='Orense', CIUDAD='Islas Baleares'),\n Row(ID_BASE=5, NOMBRE='eleven', PCIA='Jaén', CIUDAD='Comunidad de Madrid')]"
     },
     "metadata": {},
     "execution_count": 24
    }
   ],
   "source": [
    "spDF.collect()"
   ]
  },
  {
   "cell_type": "code",
   "execution_count": 33,
   "metadata": {},
   "outputs": [
    {
     "output_type": "execute_result",
     "data": {
      "text/plain": "DataFrame[ID_BASE: bigint, NOMBRE: string, PCIA: string, CIUDAD: string]"
     },
     "metadata": {},
     "execution_count": 33
    }
   ],
   "source": [
    "spDF"
   ]
  },
  {
   "cell_type": "code",
   "execution_count": 34,
   "metadata": {},
   "outputs": [
    {
     "output_type": "stream",
     "name": "stdout",
     "text": "+-------+------+----------+--------------------+\n|ID_BASE|NOMBRE|      PCIA|              CIUDAD|\n+-------+------+----------+--------------------+\n|      7|   one|     Ávila|            La Rioja|\n|     10|  nine|   Vizcaya|    Región de Murcia|\n|      9| seven|Las Palmas|Principado de Ast...|\n|      4|   ten|Pontevedra|         Extremadura|\n|      1|   two|    Toledo|             Melilla|\n|      2|   six|     Soria|            Cataluña|\n|      0| three| Tarragona|     Castilla y León|\n|      3|  four|    Lérida|  Castilla-La Mancha|\n|      6| eight|    Orense|      Islas Baleares|\n|      5|eleven|      Jaén| Comunidad de Madrid|\n+-------+------+----------+--------------------+\n\n"
    }
   ],
   "source": [
    "spDF.show()"
   ]
  },
  {
   "cell_type": "code",
   "execution_count": 35,
   "metadata": {},
   "outputs": [],
   "source": [
    "rdd = spDF.rdd"
   ]
  },
  {
   "cell_type": "code",
   "execution_count": 38,
   "metadata": {},
   "outputs": [],
   "source": [
    "values = rdd.map(lambda x: (x[0],x))"
   ]
  },
  {
   "cell_type": "code",
   "execution_count": 39,
   "metadata": {},
   "outputs": [
    {
     "output_type": "execute_result",
     "data": {
      "text/plain": "[(7, Row(ID_BASE=7, NOMBRE='one', PCIA='Ávila', CIUDAD='La Rioja')),\n (10,\n  Row(ID_BASE=10, NOMBRE='nine', PCIA='Vizcaya', CIUDAD='Región de Murcia')),\n (9,\n  Row(ID_BASE=9, NOMBRE='seven', PCIA='Las Palmas', CIUDAD='Principado de Asturias')),\n (4, Row(ID_BASE=4, NOMBRE='ten', PCIA='Pontevedra', CIUDAD='Extremadura')),\n (1, Row(ID_BASE=1, NOMBRE='two', PCIA='Toledo', CIUDAD='Melilla')),\n (2, Row(ID_BASE=2, NOMBRE='six', PCIA='Soria', CIUDAD='Cataluña')),\n (0,\n  Row(ID_BASE=0, NOMBRE='three', PCIA='Tarragona', CIUDAD='Castilla y León')),\n (3,\n  Row(ID_BASE=3, NOMBRE='four', PCIA='Lérida', CIUDAD='Castilla-La Mancha')),\n (6, Row(ID_BASE=6, NOMBRE='eight', PCIA='Orense', CIUDAD='Islas Baleares')),\n (5,\n  Row(ID_BASE=5, NOMBRE='eleven', PCIA='Jaén', CIUDAD='Comunidad de Madrid'))]"
     },
     "metadata": {},
     "execution_count": 39
    }
   ],
   "source": [
    "values.collect()"
   ]
  },
  {
   "cell_type": "code",
   "execution_count": null,
   "metadata": {},
   "outputs": [],
   "source": []
  }
 ],
 "metadata": {
  "language_info": {
   "codemirror_mode": {
    "name": "ipython",
    "version": 3
   },
   "file_extension": ".py",
   "mimetype": "text/x-python",
   "name": "python",
   "nbconvert_exporter": "python",
   "pygments_lexer": "ipython3",
   "version": "3.7.0-final"
  },
  "orig_nbformat": 2,
  "kernelspec": {
   "name": "python37064bitpythonsparkpipenv32cd6f5ec9c04e49bd037f5f149da369",
   "display_name": "Python 3.7.0 64-bit ('python_spark': pipenv)"
  }
 },
 "nbformat": 4,
 "nbformat_minor": 2
}