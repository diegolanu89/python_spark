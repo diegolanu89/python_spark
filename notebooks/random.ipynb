{
 "cells": [
  {
   "cell_type": "code",
   "execution_count": 3,
   "metadata": {},
   "outputs": [
    {
     "output_type": "execute_result",
     "data": {
      "text/plain": "[datetime.datetime(2018, 2, 8, 0, 0),\n datetime.datetime(2017, 2, 11, 0, 0),\n datetime.datetime(2017, 1, 24, 0, 0),\n datetime.datetime(2017, 3, 21, 0, 0),\n datetime.datetime(2017, 8, 25, 0, 0),\n datetime.datetime(2017, 5, 18, 0, 0),\n datetime.datetime(2018, 5, 9, 0, 0),\n datetime.datetime(2017, 10, 5, 0, 0),\n datetime.datetime(2017, 11, 26, 0, 0),\n datetime.datetime(2017, 1, 16, 0, 0),\n datetime.datetime(2018, 2, 15, 0, 0),\n datetime.datetime(2017, 1, 9, 0, 0),\n datetime.datetime(2017, 11, 16, 0, 0),\n datetime.datetime(2018, 9, 23, 0, 0),\n datetime.datetime(2017, 1, 9, 0, 0),\n datetime.datetime(2017, 3, 2, 0, 0),\n datetime.datetime(2018, 10, 13, 0, 0),\n datetime.datetime(2017, 5, 28, 0, 0),\n datetime.datetime(2018, 3, 27, 0, 0),\n datetime.datetime(2017, 2, 15, 0, 0)]"
     },
     "metadata": {},
     "execution_count": 3
    }
   ],
   "source": [
    "import random\n",
    "import time\n",
    "import numpy as np\n",
    "from datetime import datetime\n",
    "\n",
    "def str_time_prop(start, end, format, prop):\n",
    "    \"\"\"Get a time at a proportion of a range of two formatted times.\n",
    "\n",
    "    start and end should be strings specifying times formated in the\n",
    "    given format (strftime-style), giving an interval [start, end].\n",
    "    prop specifies how a proportion of the interval to be taken after\n",
    "    start.  The returned time will be in the specified format.\n",
    "    \"\"\"\n",
    "\n",
    "    stime = time.mktime(time.strptime(start, format))\n",
    "    etime = time.mktime(time.strptime(end, format))\n",
    "\n",
    "    ptime = stime + prop * (etime - stime)\n",
    "\n",
    "    return time.strftime(format, time.localtime(ptime))\n",
    "\n",
    "\n",
    "def random_date(start, end, prop):\n",
    "    return str_time_prop(start, end, '%m/%d/%Y', prop)\n",
    "#dates = np.array([])  //if use  numpy\n",
    "dates = []\n",
    "\n",
    "for i in range(20):\n",
    "    #dates = np.append(dates,...) //if use numpy\n",
    "    dates.append( datetime.strptime(random_date(\"1/1/2017\", \"1/1/2019\", random.random()), '%m/%d/%Y'))\n",
    "\n",
    "dates"
   ]
  },
  {
   "cell_type": "code",
   "execution_count": null,
   "metadata": {},
   "outputs": [],
   "source": []
  }
 ],
 "metadata": {
  "language_info": {
   "codemirror_mode": {
    "name": "ipython",
    "version": 3
   },
   "file_extension": ".py",
   "mimetype": "text/x-python",
   "name": "python",
   "nbconvert_exporter": "python",
   "pygments_lexer": "ipython3",
   "version": "3.7.0-final"
  },
  "orig_nbformat": 2,
  "kernelspec": {
   "name": "python37064bitpythonpipenv7230673d0c4d4573af2fbc53a31cd976",
   "display_name": "Python 3.7.0 64-bit ('PYTHON': pipenv)"
  }
 },
 "nbformat": 4,
 "nbformat_minor": 2
}