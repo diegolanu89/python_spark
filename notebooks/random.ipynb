{
 "cells": [
  {
   "cell_type": "code",
   "execution_count": 83,
   "metadata": {},
   "outputs": [],
   "source": [
    "import pandas as pd\n",
    "import random\n",
    "import numpy as np"
   ]
  },
  {
   "cell_type": "code",
   "execution_count": 71,
   "metadata": {},
   "outputs": [],
   "source": [
    "#Datos aleatorios extraidos de la web para aportar un set ejemplo y utilización de random\n",
    "lista = range(0,100)\n",
    "\n",
    "provincias = ['Álava', 'Albacete','Alicante','Almería', 'Asturias','Ávila','Badajoz','Barcelona','Burgos','Cáceres','Cádiz','Cantabria','Castellón','Ciudad Real','Córdoba','La Coruña','Cuenca','Gerona','Granada','Guadalajara','Guipúzcoa','Huelva','Huesca','Islas Baleares','Jaén','León','Lérida','Lugo','Madrid','Málaga','Murcia','Navarra','Orense','Palencia','Las Palmas','Pontevedra','La Rioja','Salamanca','Segovia','Sevilla','Soria','Tarragona','Santa Cruz de Tenerife','Teruel','Toledo','Valencia','Valladolid','Vizcaya','Zamora','Zaragoza'];\n",
    "\n",
    "ciudades = [\"Andalucía\", \"Aragón\", \"Canarias\", \"Cantabria\", \"Castilla y León\", \"Castilla-La Mancha\", \"Cataluña\", \"Ceuta\", \"Comunidad Valenciana\", \"Comunidad de Madrid\", \"Extremadura\", \"Galicia\", \"Islas Baleares\", \"La Rioja\", \"Melilla\", \"Navarra\", \"País Vasco\", \"Principado de Asturias\", \"Región de Murcia\"];\n",
    "\n",
    "nombres = [\"one\", \"two\", \"three\", \"four\", \"five\",\"six\", \"seven\", \"eight\", \"nine\", \"ten\", \"eleven\"];\n"
   ]
  },
  {
   "cell_type": "code",
   "execution_count": 72,
   "metadata": {},
   "outputs": [
    {
     "output_type": "execute_result",
     "data": {
      "text/plain": "   ID_BASE  NOMBRE        PCIA                  CIUDAD\n0       74     six        Jaén                   Ceuta\n1       95    four     Cáceres                 Navarra\n2       57  eleven      Lérida               Andalucía\n3       11     two        León    Comunidad Valenciana\n4       12   three  Pontevedra                  Aragón\n5        3   seven     Córdoba  Principado de Asturias\n6       59    nine      Huelva                Cataluña\n7       26     ten      Zamora                 Melilla\n8       49   eight    Albacete        Región de Murcia\n9       19     one     Sevilla         Castilla y León",
      "text/html": "<div>\n<style scoped>\n    .dataframe tbody tr th:only-of-type {\n        vertical-align: middle;\n    }\n\n    .dataframe tbody tr th {\n        vertical-align: top;\n    }\n\n    .dataframe thead th {\n        text-align: right;\n    }\n</style>\n<table border=\"1\" class=\"dataframe\">\n  <thead>\n    <tr style=\"text-align: right;\">\n      <th></th>\n      <th>ID_BASE</th>\n      <th>NOMBRE</th>\n      <th>PCIA</th>\n      <th>CIUDAD</th>\n    </tr>\n  </thead>\n  <tbody>\n    <tr>\n      <th>0</th>\n      <td>74</td>\n      <td>six</td>\n      <td>Jaén</td>\n      <td>Ceuta</td>\n    </tr>\n    <tr>\n      <th>1</th>\n      <td>95</td>\n      <td>four</td>\n      <td>Cáceres</td>\n      <td>Navarra</td>\n    </tr>\n    <tr>\n      <th>2</th>\n      <td>57</td>\n      <td>eleven</td>\n      <td>Lérida</td>\n      <td>Andalucía</td>\n    </tr>\n    <tr>\n      <th>3</th>\n      <td>11</td>\n      <td>two</td>\n      <td>León</td>\n      <td>Comunidad Valenciana</td>\n    </tr>\n    <tr>\n      <th>4</th>\n      <td>12</td>\n      <td>three</td>\n      <td>Pontevedra</td>\n      <td>Aragón</td>\n    </tr>\n    <tr>\n      <th>5</th>\n      <td>3</td>\n      <td>seven</td>\n      <td>Córdoba</td>\n      <td>Principado de Asturias</td>\n    </tr>\n    <tr>\n      <th>6</th>\n      <td>59</td>\n      <td>nine</td>\n      <td>Huelva</td>\n      <td>Cataluña</td>\n    </tr>\n    <tr>\n      <th>7</th>\n      <td>26</td>\n      <td>ten</td>\n      <td>Zamora</td>\n      <td>Melilla</td>\n    </tr>\n    <tr>\n      <th>8</th>\n      <td>49</td>\n      <td>eight</td>\n      <td>Albacete</td>\n      <td>Región de Murcia</td>\n    </tr>\n    <tr>\n      <th>9</th>\n      <td>19</td>\n      <td>one</td>\n      <td>Sevilla</td>\n      <td>Castilla y León</td>\n    </tr>\n  </tbody>\n</table>\n</div>"
     },
     "metadata": {},
     "execution_count": 72
    }
   ],
   "source": [
    "df = pd.DataFrame({'ID_BASE': random.sample(lista,k=10),\n",
    "                   'NOMBRE': random.sample(nombres,k=10),\n",
    "                   'PCIA': random.sample(provincias,k=10),\n",
    "                   'CIUDAD':random.sample(ciudades,k=10),}\n",
    "                  )\n",
    "df"
   ]
  },
  {
   "cell_type": "code",
   "execution_count": 28,
   "metadata": {},
   "outputs": [
    {
     "output_type": "execute_result",
     "data": {
      "text/plain": "          A         B         C         D\n0 -1.196814 -0.223476  1.000825  1.215312\n1 -0.091135 -1.260692 -0.982175 -0.659053\n2 -1.155337 -0.420447  0.149167  1.176386\n3  1.138557 -0.664858 -0.117765  2.259283\n4 -0.924744 -0.620027 -0.092010 -2.223072\n5  0.062836 -0.509912  0.786522 -0.523201\n6 -1.000416  0.337583 -0.234827 -0.364806\n7 -1.876309 -1.138278  0.085020 -0.814483\n8  0.403105 -0.103838  0.590887  0.006675\n9  0.490873 -0.482751  1.545616  1.720213",
      "text/html": "<div>\n<style scoped>\n    .dataframe tbody tr th:only-of-type {\n        vertical-align: middle;\n    }\n\n    .dataframe tbody tr th {\n        vertical-align: top;\n    }\n\n    .dataframe thead th {\n        text-align: right;\n    }\n</style>\n<table border=\"1\" class=\"dataframe\">\n  <thead>\n    <tr style=\"text-align: right;\">\n      <th></th>\n      <th>A</th>\n      <th>B</th>\n      <th>C</th>\n      <th>D</th>\n    </tr>\n  </thead>\n  <tbody>\n    <tr>\n      <th>0</th>\n      <td>-1.196814</td>\n      <td>-0.223476</td>\n      <td>1.000825</td>\n      <td>1.215312</td>\n    </tr>\n    <tr>\n      <th>1</th>\n      <td>-0.091135</td>\n      <td>-1.260692</td>\n      <td>-0.982175</td>\n      <td>-0.659053</td>\n    </tr>\n    <tr>\n      <th>2</th>\n      <td>-1.155337</td>\n      <td>-0.420447</td>\n      <td>0.149167</td>\n      <td>1.176386</td>\n    </tr>\n    <tr>\n      <th>3</th>\n      <td>1.138557</td>\n      <td>-0.664858</td>\n      <td>-0.117765</td>\n      <td>2.259283</td>\n    </tr>\n    <tr>\n      <th>4</th>\n      <td>-0.924744</td>\n      <td>-0.620027</td>\n      <td>-0.092010</td>\n      <td>-2.223072</td>\n    </tr>\n    <tr>\n      <th>5</th>\n      <td>0.062836</td>\n      <td>-0.509912</td>\n      <td>0.786522</td>\n      <td>-0.523201</td>\n    </tr>\n    <tr>\n      <th>6</th>\n      <td>-1.000416</td>\n      <td>0.337583</td>\n      <td>-0.234827</td>\n      <td>-0.364806</td>\n    </tr>\n    <tr>\n      <th>7</th>\n      <td>-1.876309</td>\n      <td>-1.138278</td>\n      <td>0.085020</td>\n      <td>-0.814483</td>\n    </tr>\n    <tr>\n      <th>8</th>\n      <td>0.403105</td>\n      <td>-0.103838</td>\n      <td>0.590887</td>\n      <td>0.006675</td>\n    </tr>\n    <tr>\n      <th>9</th>\n      <td>0.490873</td>\n      <td>-0.482751</td>\n      <td>1.545616</td>\n      <td>1.720213</td>\n    </tr>\n  </tbody>\n</table>\n</div>"
     },
     "metadata": {},
     "execution_count": 28
    }
   ],
   "source": [
    "df = pd.DataFrame(np.random.randn(10, 4), columns=list('ABCD'))\n",
    "df"
   ]
  }
 ],
 "metadata": {
  "language_info": {
   "codemirror_mode": {
    "name": "ipython",
    "version": 3
   },
   "file_extension": ".py",
   "mimetype": "text/x-python",
   "name": "python",
   "nbconvert_exporter": "python",
   "pygments_lexer": "ipython3",
   "version": "3.7.0-final"
  },
  "orig_nbformat": 2,
  "kernelspec": {
   "name": "python37064bitpythonsparkpipenv32cd6f5ec9c04e49bd037f5f149da369",
   "display_name": "Python 3.7.0 64-bit ('python_spark': pipenv)"
  }
 },
 "nbformat": 4,
 "nbformat_minor": 2
}