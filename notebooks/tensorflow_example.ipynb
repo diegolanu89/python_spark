{
 "cells": [
  {
   "cell_type": "code",
   "execution_count": 1,
   "metadata": {},
   "outputs": [],
   "source": [
    "from __future__ import absolute_import, division, print_function, unicode_literals\n",
    "import tensorflow as tf"
   ]
  },
  {
   "cell_type": "code",
   "execution_count": 2,
   "metadata": {},
   "outputs": [],
   "source": [
    "# Carga y prepara el conjunto de datos MNIST (un ejemplo cualquiera de keras). Convierte los ejemplos de numeros enteros a numeros de punto flotante:\n",
    "mnist = tf.keras.datasets.mnist\n",
    "\n",
    "(x_train, y_train), (x_test, y_test) = mnist.load_data()\n",
    "x_train, x_test = x_train / 255.0, x_test / 255.0\n"
   ]
  },
  {
   "cell_type": "code",
   "execution_count": 3,
   "metadata": {},
   "outputs": [],
   "source": [
    "#Construye un modelo tf.keras.Sequential apilando capas. Escoge un optimizador y una funcion de perdida para el entrenamiento de tu modelo:\n",
    "\n",
    "model = tf.keras.models.Sequential([\n",
    "  tf.keras.layers.Flatten(input_shape=(28, 28)),\n",
    "  tf.keras.layers.Dense(128, activation='relu'),\n",
    "  tf.keras.layers.Dropout(0.2),\n",
    "  tf.keras.layers.Dense(10, activation='softmax')\n",
    "])\n",
    "\n",
    "model.compile(optimizer='adam',\n",
    "              loss='sparse_categorical_crossentropy',\n",
    "              metrics=['accuracy'])\n"
   ]
  },
  {
   "cell_type": "code",
   "execution_count": 4,
   "metadata": {},
   "outputs": [
    {
     "output_type": "stream",
     "name": "stdout",
     "text": "Train on 60000 samples\nEpoch 1/5\n60000/60000 [==============================] - 5s 82us/sample - loss: 0.2927 - accuracy: 0.9144\nEpoch 2/5\n60000/60000 [==============================] - 4s 73us/sample - loss: 0.1478 - accuracy: 0.9554\nEpoch 3/5\n60000/60000 [==============================] - 5s 82us/sample - loss: 0.1118 - accuracy: 0.9659\nEpoch 4/5\n60000/60000 [==============================] - 5s 85us/sample - loss: 0.0913 - accuracy: 0.9722\nEpoch 5/5\n60000/60000 [==============================] - 4s 69us/sample - loss: 0.0760 - accuracy: 0.9770\n10000/10000 - 1s - loss: 0.0785 - accuracy: 0.9769\n"
    },
    {
     "output_type": "execute_result",
     "data": {
      "text/plain": "[0.07848124610101805, 0.9769]"
     },
     "metadata": {},
     "execution_count": 4
    }
   ],
   "source": [
    "# Entrena y evalua el modelo:\n",
    "model.fit(x_train, y_train, epochs=5)\n",
    "\n",
    "model.evaluate(x_test,  y_test, verbose=2)\n"
   ]
  },
  {
   "cell_type": "code",
   "execution_count": 5,
   "metadata": {},
   "outputs": [],
   "source": [
    "#El model de clasificacion de images fue entrenado y alcanzo una exactitud de ~98% en este conjunto de datos."
   ]
  }
 ],
 "metadata": {
  "language_info": {
   "codemirror_mode": {
    "name": "ipython",
    "version": 3
   },
   "file_extension": ".py",
   "mimetype": "text/x-python",
   "name": "python",
   "nbconvert_exporter": "python",
   "pygments_lexer": "ipython3",
   "version": "3.7.0-final"
  },
  "orig_nbformat": 2,
  "kernelspec": {
   "name": "python37064bitpythonpipenv7230673d0c4d4573af2fbc53a31cd976",
   "display_name": "Python 3.7.0 64-bit ('PYTHON': pipenv)"
  }
 },
 "nbformat": 4,
 "nbformat_minor": 2
}